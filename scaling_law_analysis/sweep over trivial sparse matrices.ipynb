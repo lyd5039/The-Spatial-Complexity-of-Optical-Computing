{
 "cells": [
  {
   "cell_type": "code",
   "execution_count": 1,
   "metadata": {},
   "outputs": [],
   "source": [
    "import sys\n",
    "sys.path.append('lsmat_utils')"
   ]
  },
  {
   "cell_type": "code",
   "execution_count": 2,
   "metadata": {},
   "outputs": [],
   "source": [
    "from lsmat_to_graph import get_ports_pos, get_graph, get_cross_cones_for_given_plane, mesh_input_plane_periphery, get_list_N_cross_cones__cut_passes_center\n",
    "from lsmat_generator import get_dense_mat"
   ]
  },
  {
   "cell_type": "code",
   "execution_count": 3,
   "metadata": {
    "executionInfo": {
     "elapsed": 496,
     "status": "ok",
     "timestamp": 1714666434642,
     "user": {
      "displayName": "Anthony Li",
      "userId": "14216302268300611657"
     },
     "user_tz": 240
    },
    "id": "lzog04CkCKnf"
   },
   "outputs": [],
   "source": [
    "import numpy as np\n",
    "import pandas as pd\n",
    "import networkx as nx\n",
    "\n",
    "import matplotlib.pyplot as plt\n",
    "#import seaborn as sns"
   ]
  },
  {
   "cell_type": "code",
   "execution_count": 4,
   "metadata": {
    "colab": {
     "base_uri": "https://localhost:8080/",
     "height": 450
    },
    "executionInfo": {
     "elapsed": 911,
     "status": "ok",
     "timestamp": 1713896409489,
     "user": {
      "displayName": "Anthony Li",
      "userId": "14216302268300611657"
     },
     "user_tz": 240
    },
    "id": "qzxSpZ-CDF2h",
    "outputId": "5644a55c-ce8d-4672-cebc-107e6fc4f58f"
   },
   "outputs": [
    {
     "data": {
      "text/plain": [
       "<matplotlib.image.AxesImage at 0x12d0fea81f0>"
      ]
     },
     "execution_count": 4,
     "metadata": {},
     "output_type": "execute_result"
    },
    {
     "data": {
      "image/png": "[encoded data removed]",
      "text/plain": [
       "<Figure size 640x480 with 1 Axes>"
      ]
     },
     "metadata": {},
     "output_type": "display_data"
    }
   ],
   "source": [
    "nx_in = 8\n",
    "ny_in = 8\n",
    "nx_out = 8\n",
    "ny_out = 8\n",
    "input_mat = np.zeros((nx_in*ny_in, nx_out*ny_out))\n",
    "\n",
    "N_nonzero = 100 # sparse mat has a low density\n",
    "separation_threshold = 1.3\n",
    "geq_or_leq = 'leq'\n",
    "\n",
    "trivial_sparse_mat = get_dense_mat(nx_in*ny_in, nx_out*ny_out, N_nonzero, rand_seed=42)\n",
    "plt.imshow(trivial_sparse_mat, cmap='viridis')"
   ]
  },
  {
   "cell_type": "code",
   "execution_count": 5,
   "metadata": {
    "colab": {
     "base_uri": "https://localhost:8080/",
     "height": 448
    },
    "executionInfo": {
     "elapsed": 799,
     "status": "ok",
     "timestamp": 1713742162880,
     "user": {
      "displayName": "Anthony Li",
      "userId": "14216302268300611657"
     },
     "user_tz": 240
    },
    "id": "GvkuDbPlJBWn",
    "outputId": "24f4c7cd-cba1-4f74-fc44-7e479753eec1"
   },
   "outputs": [
    {
     "data": {
      "text/plain": [
       "<matplotlib.collections.PathCollection at 0x12d107d4c10>"
      ]
     },
     "execution_count": 5,
     "metadata": {},
     "output_type": "execute_result"
    },
    {
     "data": {
      "image/png": "[encoded data removed]",
      "text/plain": [
       "<Figure size 640x480 with 1 Axes>"
      ]
     },
     "metadata": {},
     "output_type": "display_data"
    }
   ],
   "source": [
    "list_periphery_points = mesh_input_plane_periphery(trivial_sparse_mat, nx_in,ny_in,nx_out,ny_out, steps_1_port=5)\n",
    "\n",
    "\n",
    "# Extract x and y coordinates from the arrays\n",
    "x_coords = [point[0] for point in list_periphery_points]\n",
    "y_coords = [point[1] for point in list_periphery_points]\n",
    "\n",
    "# Create a scatter plot\n",
    "plt.scatter(x_coords, y_coords, marker='o', color='blue', label='Points')"
   ]
  },
  {
   "cell_type": "code",
   "execution_count": 6,
   "metadata": {
    "colab": {
     "base_uri": "https://localhost:8080/"
    },
    "executionInfo": {
     "elapsed": 288,
     "status": "ok",
     "timestamp": 1713742165132,
     "user": {
      "displayName": "Anthony Li",
      "userId": "14216302268300611657"
     },
     "user_tz": 240
    },
    "id": "wGspisWwJGqo",
    "outputId": "121ae25e-6f96-4d07-fca5-854d1bc94d4a"
   },
   "outputs": [
    {
     "data": {
      "text/plain": [
       "160"
      ]
     },
     "execution_count": 6,
     "metadata": {},
     "output_type": "execute_result"
    }
   ],
   "source": [
    "len(list_periphery_points)"
   ]
  },
  {
   "cell_type": "markdown",
   "metadata": {
    "id": "vsBXpbb4NSd1"
   },
   "source": [
    "# sweep over different sparse matrices"
   ]
  },
  {
   "cell_type": "code",
   "execution_count": null,
   "metadata": {
    "id": "WvKgf-wOHovm"
   },
   "outputs": [],
   "source": [
    "import os\n",
    "import re\n",
    "import pandas as pd\n",
    "\n",
    "import time"
   ]
  },
  {
   "cell_type": "markdown",
   "metadata": {},
   "source": [
    "#### mat_density = 0.05"
   ]
  },
  {
   "cell_type": "code",
   "execution_count": null,
   "metadata": {},
   "outputs": [],
   "source": [
    "steps_1_port = 3\n",
    "list_rand_seeds = np.random.randint(-2**31, 2**31, size=8, dtype=np.int32).tolist()\n",
    "list_rand_seeds"
   ]
  },
  {
   "cell_type": "code",
   "execution_count": null,
   "metadata": {},
   "outputs": [],
   "source": [
    "steps_1_port = 3\n",
    "\n",
    "for rho in [0.01,0.02,0.05,0.1]:\n",
    "\n",
    "    param_grid = {\n",
    "        'nx_in': [6, 8, 10, 12, 16, 20, 24, 28, 32, 36, 40, 48, 56, 64],\n",
    "        'mat_density': [rho]\n",
    "    }\n",
    "\n",
    "    \n",
    "    \n",
    "    #os.makedirs(model_save_dir, exist_ok=True)\n",
    "    spreadsheet_path = f\"C_vs_N__trivial_sparse_matrices__steps_1_port={steps_1_port}.csv\"\n",
    "    if os.path.exists(spreadsheet_path):\n",
    "        df_results = pd.read_csv(spreadsheet_path)\n",
    "    else:\n",
    "        df_results = pd.DataFrame()\n",
    "    \n",
    "    \n",
    "    for nx_in in param_grid['nx_in']:\n",
    "        for rand_seed in list_rand_seeds:\n",
    "    \n",
    "            params = {\n",
    "                'nx_in': nx_in,\n",
    "                'ny_in': nx_in,\n",
    "                'nx_out': nx_in,\n",
    "                'ny_out': nx_in,\n",
    "                'mat_density': param_grid['mat_density'][0],\n",
    "                'steps_1_port': steps_1_port,\n",
    "                'rand_seed': rand_seed\n",
    "            }\n",
    "            #print(\"Processing with parameters:\", params)\n",
    "    \n",
    "    \n",
    "            t_start = time.time()\n",
    "            \n",
    "            nx_in = params['nx_in']\n",
    "            ny_in = params['ny_in']\n",
    "            nx_out = params['nx_out']\n",
    "            ny_out = params['ny_out']\n",
    "            N_nonzero = int(np.ceil(params['mat_density'] *nx_in*ny_in *nx_out*ny_out))\n",
    "            \n",
    "            dense_mat = get_dense_mat(nx_in*ny_in, nx_out*ny_out, N_nonzero, rand_seed)\n",
    "    \n",
    "            list_N_cross_cones, list_cut_length = get_list_N_cross_cones__cut_passes_center(dense_mat, nx_in,ny_in,nx_out,ny_out,\n",
    "                                                                                            threshold=0.01, steps_1_port=params['steps_1_port'])\n",
    "            # this list contains the numbers of cross cones for ALL valid cuts\n",
    "    \n",
    "    \n",
    "    \n",
    "            params_json = params\n",
    "            params_json['N_nonzero'] = N_nonzero\n",
    "    \n",
    "            array_C = np.array(list_N_cross_cones)\n",
    "            array_cut_length = np.array(list_cut_length)\n",
    "            params_json['max(C)'] = np.max(array_C)\n",
    "            params_json['avg(C)'] = np.mean(array_C)\n",
    "            params_json['std(C)'] = np.std(array_C, ddof=0)\n",
    "            idx_max_C = np.where(array_C == np.max(array_C))[0] # could be multiple indices associated with the same max value\n",
    "            params_json['cut_length_for_max(C)'] = array_cut_length[idx_max_C].tolist()\n",
    "    \n",
    "    \n",
    "            # thickness = N_cross_cones / cut_length\n",
    "            array_thickness = array_C / array_cut_length\n",
    "            params_json['max(thickness)'] = np.max(array_thickness)\n",
    "            idx_max_thickness = np.where(array_thickness == np.max(array_thickness))[0] # could be multiple indices associated with the same max value\n",
    "            params_json['cut_length_for_max(thickness)'] = array_cut_length[idx_max_thickness].tolist()\n",
    "            params_json['C_for_max(thickness)'] = array_C[idx_max_thickness].tolist()\n",
    "    \n",
    "    \n",
    "            \n",
    "            t_end = time.time()\n",
    "            time_consumption = (t_end-t_start)\n",
    "            params_json['time_consumption'] = time_consumption\n",
    "            print(time_consumption) # unit: seconds\n",
    "            \n",
    "            df_results = pd.concat([df_results, pd.DataFrame([params_json])], ignore_index=True)\n",
    "            df_results.to_csv(spreadsheet_path, index=False)"
   ]
  },
  {
   "cell_type": "code",
   "execution_count": null,
   "metadata": {},
   "outputs": [],
   "source": []
  }
 ],
 "metadata": {
  "colab": {
   "authorship_tag": "ABX9TyM+T7oSr0yO7ZqvzmASHDV/",
   "provenance": []
  },
  "kernelspec": {
   "display_name": "Python3 (LSONN)",
   "language": "python",
   "name": "lsonn"
  },
  "language_info": {
   "codemirror_mode": {
    "name": "ipython",
    "version": 3
   },
   "file_extension": ".py",
   "mimetype": "text/x-python",
   "name": "python",
   "nbconvert_exporter": "python",
   "pygments_lexer": "ipython3",
   "version": "3.10.12"
  }
 },
 "nbformat": 4,
 "nbformat_minor": 4
}
